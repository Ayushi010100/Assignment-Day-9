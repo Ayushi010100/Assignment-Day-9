{
 "cells": [
  {
   "cell_type": "code",
   "execution_count": 1,
   "metadata": {},
   "outputs": [
    {
     "name": "stdout",
     "output_type": "stream",
     "text": [
      "Requirement already satisfied: pylint in c:\\users\\hp\\anaconda3\\lib\\site-packages (2.4.4)\n",
      "Requirement already satisfied: mccabe<0.7,>=0.6 in c:\\users\\hp\\anaconda3\\lib\\site-packages (from pylint) (0.6.1)\n",
      "Requirement already satisfied: isort<5,>=4.2.5 in c:\\users\\hp\\anaconda3\\lib\\site-packages (from pylint) (4.3.21)\n",
      "Requirement already satisfied: colorama; sys_platform == \"win32\" in c:\\users\\hp\\anaconda3\\lib\\site-packages (from pylint) (0.4.3)\n",
      "Requirement already satisfied: astroid<2.4,>=2.3.0 in c:\\users\\hp\\anaconda3\\lib\\site-packages (from pylint) (2.3.3)\n",
      "Requirement already satisfied: typed-ast<1.5,>=1.4.0; implementation_name == \"cpython\" and python_version < \"3.8\" in c:\\users\\hp\\anaconda3\\lib\\site-packages (from astroid<2.4,>=2.3.0->pylint) (1.4.1)\n",
      "Requirement already satisfied: six~=1.12 in c:\\users\\hp\\anaconda3\\lib\\site-packages (from astroid<2.4,>=2.3.0->pylint) (1.14.0)\n",
      "Requirement already satisfied: lazy-object-proxy==1.4.* in c:\\users\\hp\\anaconda3\\lib\\site-packages (from astroid<2.4,>=2.3.0->pylint) (1.4.3)\n",
      "Requirement already satisfied: wrapt==1.11.* in c:\\users\\hp\\anaconda3\\lib\\site-packages (from astroid<2.4,>=2.3.0->pylint) (1.11.2)\n"
     ]
    }
   ],
   "source": [
    "! pip install pylint  #installing pylint"
   ]
  },
  {
   "cell_type": "code",
   "execution_count": 104,
   "metadata": {},
   "outputs": [
    {
     "name": "stdout",
     "output_type": "stream",
     "text": [
      "Overwriting prime_cod.py\n"
     ]
    }
   ],
   "source": [
    "#day 9 assignment 1\n",
    "\n",
    "%%writefile prime_cod.py\n",
    "\"\"\"It is a code to check for a prime number\"\"\"\n",
    "\n",
    "def prime(num):                                     #writing code for prime number \n",
    "    \"\"\"code starts\"\"\"\n",
    "    count_factor = 0                                  \n",
    "    for i in range(1, num+1):\n",
    "        if num%i == 0:\n",
    "            count_factor += 1\n",
    "    return count_factor == 2\n",
    "prime(num=10)"
   ]
  },
  {
   "cell_type": "code",
   "execution_count": 105,
   "metadata": {},
   "outputs": [
    {
     "name": "stdout",
     "output_type": "stream",
     "text": [
      "\n",
      "--------------------------------------------------------------------\n",
      "\n",
      "Your code has been rated at 10.00/10 (previous run: 10.00/10, +0.00)\n",
      "\n",
      "\n",
      "\n"
     ]
    }
   ],
   "source": [
    "! pylint \"prime_cod.py\"                             #checking code rate"
   ]
  },
  {
   "cell_type": "code",
   "execution_count": 106,
   "metadata": {},
   "outputs": [
    {
     "name": "stdout",
     "output_type": "stream",
     "text": [
      "Enter a number to be checked whether it is prime or not:7\n"
     ]
    },
    {
     "data": {
      "text/plain": [
       "True"
      ]
     },
     "execution_count": 106,
     "metadata": {},
     "output_type": "execute_result"
    }
   ],
   "source": [
    "import prime_cod                     #unittesting\n",
    "\n",
    "prime_cod.prime(int(input(\"Enter a number to be checked whether it is prime or not:\")))"
   ]
  },
  {
   "cell_type": "code",
   "execution_count": 117,
   "metadata": {},
   "outputs": [
    {
     "name": "stdout",
     "output_type": "stream",
     "text": [
      "Overwriting prime_co.py\n"
     ]
    }
   ],
   "source": [
    "%%writefile prime_co.py\n",
    "\n",
    "import unittest\n",
    "import prime_cod\n",
    "\n",
    "class check(unittest.TestCase):\n",
    "    def another_func(self):\n",
    "        xyz = 5\n",
    "        result = prime_cod.prime(xyz)\n",
    "        self.assertEquals(result,5)\n",
    "    def another(self):\n",
    "        abc = 8\n",
    "        result = prime_cod.prime(abc)\n",
    "        self.assertEquals(result,5)    \n",
    "if __name__ == \"__main__\":\n",
    "    unittest.main()"
   ]
  },
  {
   "cell_type": "code",
   "execution_count": 118,
   "metadata": {},
   "outputs": [
    {
     "name": "stderr",
     "output_type": "stream",
     "text": [
      "\n",
      "----------------------------------------------------------------------\n",
      "Ran 0 tests in 0.000s\n",
      "\n",
      "OK\n"
     ]
    }
   ],
   "source": [
    "! python prime_co.py "
   ]
  },
  {
   "cell_type": "code",
   "execution_count": 128,
   "metadata": {},
   "outputs": [],
   "source": [
    "#day 9 assignment 2\n",
    "                                                      #checking for armstrong number \n",
    "\n",
    "lst=list(range(1,1001))\n",
    "def check_armstrong_gen(lst):\n",
    "    for i in lst:\n",
    "        order=len(str(i))\n",
    "        n=i\n",
    "        s=0\n",
    "        while(n>0):\n",
    "            d=n%10\n",
    "            s=s+d**order\n",
    "            n=n//10\n",
    "        if(s==i):\n",
    "            yield i   "
   ]
  },
  {
   "cell_type": "code",
   "execution_count": 130,
   "metadata": {},
   "outputs": [
    {
     "name": "stdout",
     "output_type": "stream",
     "text": [
      "[1, 2, 3, 4, 5, 6, 7, 8, 9, 153, 370, 371, 407]\n"
     ]
    }
   ],
   "source": [
    "print(list(check_armstrong_gen(lst))) "
   ]
  }
 ],
 "metadata": {
  "kernelspec": {
   "display_name": "Python 3",
   "language": "python",
   "name": "python3"
  },
  "language_info": {
   "codemirror_mode": {
    "name": "ipython",
    "version": 3
   },
   "file_extension": ".py",
   "mimetype": "text/x-python",
   "name": "python",
   "nbconvert_exporter": "python",
   "pygments_lexer": "ipython3",
   "version": "3.7.6"
  }
 },
 "nbformat": 4,
 "nbformat_minor": 4
}
